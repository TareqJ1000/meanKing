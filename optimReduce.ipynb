{
 "cells": [
  {
   "cell_type": "markdown",
   "id": "b15e78ee",
   "metadata": {},
   "source": [
    "## Ways to Reduce Setup Dimensionality (WIP)\n",
    "\n",
    "Working from the 2D-case for simplicity, we look for any potential ways by which the dimensionality of our problem can be reduced "
   ]
  },
  {
   "cell_type": "code",
   "execution_count": 6,
   "id": "1bd0f1b9",
   "metadata": {},
   "outputs": [],
   "source": [
    "import numpy as np\n",
    "import sympy as sp\n",
    "from compSuccessProb import successProb\n",
    "import yaml \n",
    "from yaml import Loader\n",
    "import pandas as pd"
   ]
  },
  {
   "cell_type": "markdown",
   "id": "e1f9edb7",
   "metadata": {},
   "source": [
    "# Ideas \n",
    "* \"First-Order\" Sensitivity Analysis\n",
    "* Bayesian History Matching \n",
    "\n"
   ]
  },
  {
   "cell_type": "markdown",
   "id": "8ee0e284",
   "metadata": {},
   "source": [
    "Let's start with a very basic sensitivity analysis: we have 12 parameters in all. We produce a set of inputs in which all but a certain parameter is kept fixed, then compute the output of the value and observe how it changes. For our 2-dimensional case, we have 12 parameters in all, so we'll have around 120 different inputs "
   ]
  },
  {
   "cell_type": "code",
   "execution_count": 7,
   "id": "b0114626",
   "metadata": {},
   "outputs": [],
   "source": [
    "bestPhases = np.load(\"bestPhases/2D_MKP_SD.npy\")\n",
    "stream = open(\"configs/sensitivity.yaml\", 'r')\n",
    "cnfg = yaml.load(stream, Loader=Loader)\n",
    "\n",
    "detectorSet = [c_0,d_0,e_0,f_0]\n"
   ]
  }
 ],
 "metadata": {
  "kernelspec": {
   "display_name": "Python 3 (ipykernel)",
   "language": "python",
   "name": "python3"
  },
  "language_info": {
   "codemirror_mode": {
    "name": "ipython",
    "version": 3
   },
   "file_extension": ".py",
   "mimetype": "text/x-python",
   "name": "python",
   "nbconvert_exporter": "python",
   "pygments_lexer": "ipython3",
   "version": "3.9.17"
  }
 },
 "nbformat": 4,
 "nbformat_minor": 5
}
